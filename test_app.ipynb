{
 "cells": [
  {
   "cell_type": "markdown",
   "metadata": {},
   "source": [
    "## Imports"
   ]
  },
  {
   "cell_type": "code",
   "execution_count": 2,
   "metadata": {},
   "outputs": [],
   "source": [
    "import tensorflow as tf\n",
    "from tkinter import *\n",
    "import numpy as np\n",
    "import warnings\n",
    "warnings.filterwarnings(\"ignore\")"
   ]
  },
  {
   "cell_type": "markdown",
   "metadata": {},
   "source": [
    "## make predictions"
   ]
  },
  {
   "cell_type": "code",
   "execution_count": 3,
   "metadata": {},
   "outputs": [],
   "source": [
    "def take_input(model):\n",
    "    \"\"\"\n",
    "    a function that takes the load deep learning model \n",
    "    and use it to make predictions\n",
    "    \n",
    "    \n",
    "    args:\n",
    "        model : the trained and loaded deep learning model\n",
    "                that will be used for predictions\n",
    "    \n",
    "    returns : none \n",
    "    it displays the output in the window\n",
    "    \n",
    "    \"\"\"\n",
    "    input_str = inputtxt.get(\"1.0\", \"end-1c\")\n",
    "    \n",
    "    \n",
    "    with tf.device('/cpu:0'):\n",
    "        results = model.predict(np.expand_dims(input_str,0))\n",
    "    \n",
    "    cols = [\"toxic\",\"severe_toxic\",\"obscene\",\"threat\",\"insult\",\"identity_hate\"]\n",
    "    \n",
    "    text = \"\"\n",
    "    \n",
    "    for idx, col in enumerate(cols):\n",
    "        text += '{}: {}%\\n\\n'.format(col, round(results[0][idx]*100,2))\n",
    "    \n",
    "    Output.insert(END,text)\n",
    "    "
   ]
  },
  {
   "cell_type": "markdown",
   "metadata": {},
   "source": [
    "## Create the window"
   ]
  },
  {
   "cell_type": "code",
   "execution_count": 5,
   "metadata": {},
   "outputs": [],
   "source": [
    "# Create the window\n",
    "root = Tk()\n",
    "root.geometry(\"600x600\")\n",
    "root.title(\" Q&A \")\n",
    "\n",
    "\n",
    "model_path = 'toxicity_model'\n",
    "\n",
    "# load the model\n",
    "model = tf.keras.models.load_model(model_path)\n",
    "\n",
    "\n",
    "l = Label(text = \"Please enter a sentence\")\n",
    "\n",
    "\n",
    "\n",
    "# input sentence in the text box\n",
    "\n",
    "inputtxt = Text(root, height = 10,\n",
    "                width = 40,\n",
    "                bg = \"light yellow\")\n",
    "\n",
    "\n",
    "\n",
    "\n",
    "Output = Text(root, height = 15,\n",
    "              width = 40,\n",
    "              bg = \"light cyan\")\n",
    "\n",
    "\n",
    "\n",
    "\n",
    "\n",
    "Display = Button(root, height = 4,\n",
    "                width = 20,\n",
    "                text =\"Analyze\",\n",
    "                command = lambda:take_input(model))\n",
    "\n",
    "\n",
    "\n",
    "\n",
    "\n",
    "l.pack()\n",
    "inputtxt.pack()\n",
    "Display.pack()\n",
    "Output.pack()\n",
    "\n",
    "mainloop()\n"
   ]
  },
  {
   "cell_type": "code",
   "execution_count": null,
   "metadata": {},
   "outputs": [],
   "source": []
  },
  {
   "cell_type": "code",
   "execution_count": null,
   "metadata": {},
   "outputs": [],
   "source": []
  }
 ],
 "metadata": {
  "kernelspec": {
   "display_name": "Python 3",
   "language": "python",
   "name": "python3"
  },
  "language_info": {
   "codemirror_mode": {
    "name": "ipython",
    "version": 3
   },
   "file_extension": ".py",
   "mimetype": "text/x-python",
   "name": "python",
   "nbconvert_exporter": "python",
   "pygments_lexer": "ipython3",
   "version": "3.8.5"
  }
 },
 "nbformat": 4,
 "nbformat_minor": 4
}
